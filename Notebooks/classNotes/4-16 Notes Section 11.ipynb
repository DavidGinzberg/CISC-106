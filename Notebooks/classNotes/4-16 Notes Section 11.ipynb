{
 "cells": [
  {
   "cell_type": "markdown",
   "metadata": {},
   "source": [
    "# Class Notes\n",
    "\n",
    "Below is a copy of live-coded notes from class Tuesday, April 16. You can study what we worked on, recreate your own version, or copy them directly into Thonny to re-run the code."
   ]
  },
  {
   "cell_type": "markdown",
   "metadata": {},
   "source": [
    "**names.csv**"
   ]
  },
  {
   "cell_type": "raw",
   "metadata": {},
   "source": [
    "First name,Last name\n",
    "Alexander,Hamilton\n",
    "Napoleon,Bonaparte\n",
    "Marie,Curie\n",
    "Ada,Lovelace\n",
    "Edsgar,Dijkstra\n",
    "Alan,Turing"
   ]
  },
  {
   "cell_type": "markdown",
   "metadata": {},
   "source": [
    "**format_names.py**"
   ]
  },
  {
   "cell_type": "code",
   "execution_count": 1,
   "metadata": {},
   "outputs": [],
   "source": [
    "# specify the file to read from:\n",
    "filename = \"names.csv\"\n",
    "\n",
    "#Open the file to read from it:\n",
    "names_file = open(filename, 'r')\n",
    "\n",
    "#We'll remove this, but let's see what that file contains:\n",
    "#file_contents = names_file.read()\n",
    "#print(file_contents)\n",
    "\n",
    "# What if we use a loop instead?\n",
    "#for line_of_text in names_file:\n",
    "#    print(line_of_text)\n",
    "\n",
    "output_filename = \"names_with_initial.txt\"\n",
    "\n",
    "out_file = open(output_filename, 'w')\n",
    "\n",
    "#read the heading line, and we'll ignore it for now\n",
    "heading = names_file.readline()\n",
    "\n",
    "for line in names_file:\n",
    "    name_as_list = line.strip().split(',')\n",
    "    print(name_as_list) #we'll use these for something in a moment\n",
    "    #how do we create that first initial:\n",
    "    first_name = name_as_list[0]\n",
    "    first_initial = first_name[0]\n",
    "    \n",
    "    #can we combine that with the last name?\n",
    "    combined_name = first_initial + \". \" + name_as_list[1]\n",
    "    print(combined_name)\n",
    "    #It worked! Try writing it to the text file:\n",
    "    #out_file.write(combined_name)\n",
    "    # We forgot the `\\n`!\n",
    "    #We can fix this two ways:\n",
    "    #out_file.write(combined_name + '\\n')\n",
    "    \n",
    "    # OR\n",
    "    out_file.write(combined_name)\n",
    "    out_file.write('\\n') #keep this at the end of the loop\n",
    "\n",
    "\n",
    "\n",
    "# Don't forget to close the file\n",
    "out_file.close()\n",
    "names_file.close()\n"
   ]
  },
  {
   "cell_type": "markdown",
   "metadata": {},
   "source": [
    "**Code run in the Python Shell**  \n",
    "*note: Some of this code relies on the* `*.py` *files listed above*\n",
    "\n",
    "```Python\n",
    "#Running the example from the slides:\n",
    ">>> output_file = open(\"example.txt\",\"w\")\n",
    "output_file.write(\"Writing to a file from my program\")\n",
    "output_file.write(\" on the same line.\")\n",
    "output_file.close()\n",
    "\n",
    ">>> output_file = open(\"example.txt\",\"w\")\n",
    ">>> output_file.write(\"Some more text\\n\")\n",
    "15\n",
    ">>> output_file.write(\"Where did the original message go?\")\n",
    "34\n",
    ">>> output_file.close()\n",
    ">>> output_file = open(\"example.txt\",\"a\")\n",
    ">>> output_file.write(\"The old messages were overwritten\\n\")\n",
    "34\n",
    ">>> output_file.write(\"But this time we opened it in 'append' mode.\\n\")\n",
    "45\n",
    ">>> output_file.close()\n",
    "```\n",
    "\n",
    "**Additional Practice**  \n",
    "\n",
    "Revisit the Strings worksheet and try writing the scores in the last question to a file. Read the file and calculate the average scores from the list of quiz scores."
   ]
  }
 ],
 "metadata": {
  "kernelspec": {
   "display_name": "Python 3",
   "language": "python",
   "name": "python3"
  },
  "language_info": {
   "codemirror_mode": {
    "name": "ipython",
    "version": 3
   },
   "file_extension": ".py",
   "mimetype": "text/x-python",
   "name": "python",
   "nbconvert_exporter": "python",
   "pygments_lexer": "ipython3",
   "version": "3.6.3"
  }
 },
 "nbformat": 4,
 "nbformat_minor": 2
}

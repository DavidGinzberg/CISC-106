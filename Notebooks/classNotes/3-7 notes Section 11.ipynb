{
 "cells": [
  {
   "cell_type": "markdown",
   "metadata": {},
   "source": [
    "# Boolean Logic and Conditionals"
   ]
  },
  {
   "cell_type": "markdown",
   "metadata": {},
   "source": [
    "**History Lesson**: [George Boole](https://en.wikipedia.org/wiki/George_Boole), a mathematician and logician, formalized an algebraic system of logic in which statements could be either True or False. He probably did other things, but they're not important for today's lesson. Because of mister Boole's ideas, we call any value that can be either `True` or `False` a \"Boolean\" value (*FYI: Boolean has three syllables -- say it like this: `bool - ee - in`)"
   ]
  },
  {
   "cell_type": "code",
   "execution_count": null,
   "metadata": {},
   "outputs": [],
   "source": []
  },
  {
   "cell_type": "markdown",
   "metadata": {},
   "source": [
    "## Boolean Operators\n",
    "\n",
    "##  Basic boolean comparisons (aka: Relational Operators)\n",
    "\n",
    "- `==`: \"Equality/Equivalent\" - Compares two values to see if they are the same. `True` if they are, `False` if they're not\n",
    "- `!=`: \"Not equal\" - Compares two values to see if they are different. `True` if they're different, `False` if they're the same\n",
    "- `>`: \"Greater than\" - `True` if the left-side value is **more than** the right-side value\n",
    "- `<`: \"Less than\" - `True` if the left-side value is **less than** the right-side value\n",
    "- `<=`: \"Less than or equal to\" - `True` if the left side is **less than or equal to** the right side. `False` only if `>` would be `True`\n",
    "- `>=`: \"Greater than or equal to\" - `True` if the left side is **greater than or equal to** the right side. `False` only if the left-side value is less than the right-side value"
   ]
  },
  {
   "cell_type": "code",
   "execution_count": null,
   "metadata": {},
   "outputs": [],
   "source": []
  },
  {
   "cell_type": "markdown",
   "metadata": {},
   "source": [
    "## `==` is not `=` !!!\n",
    "\n",
    "- `==` (double equal signs) means \"are these two things the same thing?\". It's a question whose answer is either `True` or `False`\n",
    "- `=` (single equal sign) means \"set this first thing to be the same as this second thing\". It's an action that changes the variable on the left to contain the value on the right\n",
    "\n"
   ]
  },
  {
   "cell_type": "code",
   "execution_count": null,
   "metadata": {},
   "outputs": [],
   "source": []
  },
  {
   "cell_type": "markdown",
   "metadata": {},
   "source": [
    "### Logical Operators (combining expressions)\n",
    "\n",
    "We can combine expressions with two keywords: `and`, `or`\n"
   ]
  },
  {
   "cell_type": "code",
   "execution_count": null,
   "metadata": {},
   "outputs": [],
   "source": []
  },
  {
   "cell_type": "markdown",
   "metadata": {},
   "source": [
    "### Exercise: returning a boolean\n",
    "\n",
    "Write a function that takes one number as an argument, and returns true if that number is greater than 100, and false otherwise."
   ]
  },
  {
   "cell_type": "code",
   "execution_count": null,
   "metadata": {},
   "outputs": [],
   "source": [
    "# Define your function below this line. Look at the tests below to get a hint for its behavior\n",
    "\n",
    "# Here are your tests. Write your function above this line\n",
    "# Add another test for a different value and see if it passes\n",
    "cisc106.assertEqual(greater_than_one_hundred(9001), True)\n",
    "cisc106.assertEqual(greater_than_one_hundred(101), True)\n",
    "cisc106.assertEqual(greater_than_one_hundred(0), False)\n",
    "cisc106.assertEqual(greater_than_one_hundred(-273.15), False)\n",
    "cisc106.assertEqual(greater_than_one_hundred(100), False)"
   ]
  },
  {
   "cell_type": "markdown",
   "metadata": {},
   "source": [
    "### Exercise: Comparing multiple values\n",
    "\n",
    "Write a function that takes three arguments: `bank_account_balance`, `credit_card_bill`, and `cost_of_rent` and returns whether the person in question (not saying who...) can pay rent. Call the function `can_pay_rent()`."
   ]
  },
  {
   "cell_type": "code",
   "execution_count": null,
   "metadata": {},
   "outputs": [],
   "source": []
  },
  {
   "cell_type": "markdown",
   "metadata": {},
   "source": [
    "# Conditional Execution"
   ]
  },
  {
   "cell_type": "markdown",
   "metadata": {},
   "source": [
    "### The `if` statement:\n",
    "\n",
    "```\n",
    "if something_true:\n",
    "    do()\n",
    "    some()\n",
    "    stuff()\n",
    "```"
   ]
  },
  {
   "cell_type": "code",
   "execution_count": null,
   "metadata": {},
   "outputs": [],
   "source": []
  },
  {
   "cell_type": "code",
   "execution_count": null,
   "metadata": {},
   "outputs": [],
   "source": []
  },
  {
   "cell_type": "code",
   "execution_count": null,
   "metadata": {},
   "outputs": [],
   "source": []
  },
  {
   "cell_type": "markdown",
   "metadata": {},
   "source": [
    "## Unary Selection\n"
   ]
  },
  {
   "cell_type": "code",
   "execution_count": null,
   "metadata": {},
   "outputs": [],
   "source": []
  },
  {
   "cell_type": "code",
   "execution_count": null,
   "metadata": {},
   "outputs": [],
   "source": []
  },
  {
   "cell_type": "code",
   "execution_count": null,
   "metadata": {},
   "outputs": [],
   "source": []
  },
  {
   "cell_type": "markdown",
   "metadata": {},
   "source": [
    "### Binary Selection (aka: If/Else expressions)\n",
    "\n"
   ]
  },
  {
   "cell_type": "code",
   "execution_count": null,
   "metadata": {},
   "outputs": [],
   "source": []
  },
  {
   "cell_type": "code",
   "execution_count": null,
   "metadata": {},
   "outputs": [],
   "source": []
  },
  {
   "cell_type": "code",
   "execution_count": null,
   "metadata": {},
   "outputs": [],
   "source": []
  },
  {
   "cell_type": "markdown",
   "metadata": {},
   "source": [
    "### Nested If/Else expressions\n",
    "\n",
    "```\n",
    "if is_class_cancelled():\n",
    "    sleep_in()\n",
    "else:\n",
    "    wake_up()\n",
    "    go_to_class()\n",
    "    if am_feeling_tired():\n",
    "        hide_in_back_row()\n",
    "```\n",
    "\n",
    "**Indentation matters here!**"
   ]
  },
  {
   "cell_type": "code",
   "execution_count": null,
   "metadata": {},
   "outputs": [],
   "source": []
  },
  {
   "cell_type": "code",
   "execution_count": null,
   "metadata": {},
   "outputs": [],
   "source": []
  }
 ],
 "metadata": {
  "kernelspec": {
   "display_name": "Python 3",
   "language": "python",
   "name": "python3"
  },
  "language_info": {
   "codemirror_mode": {
    "name": "ipython",
    "version": 3
   },
   "file_extension": ".py",
   "mimetype": "text/x-python",
   "name": "python",
   "nbconvert_exporter": "python",
   "pygments_lexer": "ipython3",
   "version": "3.6.3"
  }
 },
 "nbformat": 4,
 "nbformat_minor": 2
}

{
 "cells": [
  {
   "cell_type": "markdown",
   "metadata": {},
   "source": [
    "**Reminder:** *Binder doesn't save your notebooks -- make sure you hit* `file->download as->Notebook (or Python)` *to save a copy for your notes.*"
   ]
  },
  {
   "cell_type": "markdown",
   "metadata": {},
   "source": [
    "# Boolean Logic and Conditionals"
   ]
  },
  {
   "cell_type": "markdown",
   "metadata": {},
   "source": [
    "**History Lesson**: [George Boole](https://en.wikipedia.org/wiki/George_Boole), a mathematician and logician, formalized an algebraic system of logic in which statements could be either True or False. He probably did other things, but they're not important for today's lesson. Because of mister Boole's ideas, we call any value that can be either `True` or `False` a \"Boolean\" value (*FYI: Boolean has three syllables -- say it like this: `bool - ee - in`)"
   ]
  },
  {
   "cell_type": "code",
   "execution_count": 1,
   "metadata": {},
   "outputs": [],
   "source": [
    "import cisc106 # we're going to need this later"
   ]
  },
  {
   "cell_type": "code",
   "execution_count": 2,
   "metadata": {},
   "outputs": [
    {
     "data": {
      "text/plain": [
       "bool"
      ]
     },
     "execution_count": 2,
     "metadata": {},
     "output_type": "execute_result"
    }
   ],
   "source": [
    "type(True)"
   ]
  },
  {
   "cell_type": "markdown",
   "metadata": {},
   "source": [
    "## Boolean Operators\n",
    "\n",
    "##  Basic boolean comparisons (aka: Relational Operators)\n",
    "\n",
    "- `==`: \"Equality/Equivalent\" - Compares two values to see if they are the same. `True` if they are, `False` if they're not\n",
    "- `!=`: \"Not equal\" - Compares two values to see if they are different. `True` if they're different, `False` if they're the same\n",
    "- `>`: \"Greater than\" - `True` if the left-side value is **more than** the right-side value\n",
    "- `<`: \"Less than\" - `True` if the left-side value is **less than** the right-side value\n",
    "- `<=`: \"Less than or equal to\" - `True` if the left side is **less than or equal to** the right side. `False` only if `>` would be `True`\n",
    "- `>=`: \"Greater than or equal to\" - `True` if the left side is **greater than or equal to** the right side. `False` only if the left-side value is less than the right-side value"
   ]
  },
  {
   "cell_type": "code",
   "execution_count": 3,
   "metadata": {},
   "outputs": [
    {
     "data": {
      "text/plain": [
       "True"
      ]
     },
     "execution_count": 3,
     "metadata": {},
     "output_type": "execute_result"
    }
   ],
   "source": [
    "2 > 1"
   ]
  },
  {
   "cell_type": "code",
   "execution_count": 4,
   "metadata": {},
   "outputs": [
    {
     "data": {
      "text/plain": [
       "False"
      ]
     },
     "execution_count": 4,
     "metadata": {},
     "output_type": "execute_result"
    }
   ],
   "source": [
    "greeting = \"Hello\"\n",
    "greeting == \"Bonjour\""
   ]
  },
  {
   "cell_type": "code",
   "execution_count": 13,
   "metadata": {},
   "outputs": [
    {
     "name": "stdout",
     "output_type": "stream",
     "text": [
      "Give me your favorite number28\n",
      "Your favorite number is less than ten. False\n"
     ]
    }
   ],
   "source": [
    "secret_number = int(input(\"Give me your favorite number\"))\n",
    "\n",
    "print(\"Your favorite number is less than ten.\", secret_number < 10)"
   ]
  },
  {
   "cell_type": "markdown",
   "metadata": {},
   "source": [
    "## `==` is not `=` !!!\n",
    "\n",
    "- `==` (double equal signs) means \"are these two things the same thing?\". It's a question whose answer is either `True` or `False`\n",
    "- `=` (single equal sign) means \"set this first thing to be the same as this second thing\". It's an action that changes the variable on the left to contain the value on the right\n",
    "\n"
   ]
  },
  {
   "cell_type": "code",
   "execution_count": 11,
   "metadata": {},
   "outputs": [
    {
     "name": "stdout",
     "output_type": "stream",
     "text": [
      "True\n"
     ]
    }
   ],
   "source": [
    "#print(5 = secret_number) #This is not going to work! We need two equals (`=`) signs!\n",
    "print(5 == secret_number) # Let's try this the right way"
   ]
  },
  {
   "cell_type": "markdown",
   "metadata": {},
   "source": [
    "### Logical Operators (combining expressions)\n",
    "\n",
    "We can combine expressions with two keywords: `and`, `or`\n"
   ]
  },
  {
   "cell_type": "code",
   "execution_count": 15,
   "metadata": {},
   "outputs": [
    {
     "name": "stdout",
     "output_type": "stream",
     "text": [
      "The secret number a 'special' number? True\n",
      "39 is 'special' too, right? False\n"
     ]
    }
   ],
   "source": [
    "def is_even(num):\n",
    "    return num % 2 == 0\n",
    "\n",
    "def is_special(num):\n",
    "    '''Tells us if a number is \"special\" for some silly definition of special'''\n",
    "    return is_even(num) and num > 10\n",
    "    \n",
    "print(\"The secret number a 'special' number?\", is_special(secret_number))\n",
    "print(\"39 is 'special' too, right?\", is_special(39))"
   ]
  },
  {
   "cell_type": "code",
   "execution_count": 16,
   "metadata": {},
   "outputs": [
    {
     "name": "stdout",
     "output_type": "stream",
     "text": [
      "True and True is: True\n",
      "False and True is: False\n",
      "True or Flase is: True\n",
      "True or True is: True\n"
     ]
    }
   ],
   "source": [
    "print(\"True and True is:\", True and True)\n",
    "print(\"False and True is:\", False and True)\n",
    "print(\"True or Flase is:\", True or False)\n",
    "print(\"True or True is:\", True or True)\n"
   ]
  },
  {
   "cell_type": "markdown",
   "metadata": {},
   "source": [
    "### Exercise: returning a boolean\n",
    "\n",
    "Write a function that takes one number as an argument, and returns true if that number is greater than 100, and false otherwise."
   ]
  },
  {
   "cell_type": "code",
   "execution_count": 5,
   "metadata": {},
   "outputs": [
    {
     "name": "stdout",
     "output_type": "stream",
     "text": [
      "SUCCESS - [line 8] cisc106.assertEqual(greater_than_one_hundred(9001), True)\n",
      "SUCCESS - [line 9] cisc106.assertEqual(greater_than_one_hundred(101), True)\n",
      "SUCCESS - [line 10] cisc106.assertEqual(greater_than_one_hundred(0), False)\n",
      "SUCCESS - [line 11] cisc106.assertEqual(greater_than_one_hundred(-273.15), False)\n",
      "SUCCESS - [line 12] cisc106.assertEqual(greater_than_one_hundred(100), False)\n"
     ]
    },
    {
     "data": {
      "text/plain": [
       "True"
      ]
     },
     "execution_count": 5,
     "metadata": {},
     "output_type": "execute_result"
    }
   ],
   "source": [
    "# Define your function below this line. Look at the tests below to get a hint for its behavior\n",
    "def greater_than_one_hundred(number):\n",
    "    result = number > 100\n",
    "    return result\n",
    "\n",
    "# Here are your tests. Write your function above this line\n",
    "# Add another test for a different value and see if it passes\n",
    "cisc106.assertEqual(greater_than_one_hundred(9001), True)\n",
    "cisc106.assertEqual(greater_than_one_hundred(101), True)\n",
    "cisc106.assertEqual(greater_than_one_hundred(0), False)\n",
    "cisc106.assertEqual(greater_than_one_hundred(-273.15), False)\n",
    "cisc106.assertEqual(greater_than_one_hundred(100), False)"
   ]
  },
  {
   "cell_type": "markdown",
   "metadata": {},
   "source": [
    "### Exercise: Comparing multiple values\n",
    "\n",
    "Write a function that takes three arguments: `bank_account_balance`, `credit_card_bill`, and `cost_of_rent` and returns whether the person in question (not saying who...) can pay rent. Call the function `can_pay_rent()`."
   ]
  },
  {
   "cell_type": "code",
   "execution_count": 9,
   "metadata": {},
   "outputs": [
    {
     "name": "stdout",
     "output_type": "stream",
     "text": [
      "SUCCESS - [line 5] cisc106.assertEqual(can_pay_rent(1500, 350, 1100), True)\n",
      "SUCCESS - [line 6] cisc106.assertEqual(can_pay_rent(500, 350, 1100), False)\n",
      "SUCCESS - [line 7] cisc106.assertEqual(can_pay_rent(800, 12, 350), True)\n"
     ]
    },
    {
     "data": {
      "text/plain": [
       "True"
      ]
     },
     "execution_count": 9,
     "metadata": {},
     "output_type": "execute_result"
    }
   ],
   "source": [
    "def can_pay_rent(bank_account_balance, credit_card_bill, cost_of_rent):\n",
    "    return bank_account_balance > credit_card_bill + cost_of_rent\n",
    "\n",
    "# Remember to write your own tests here\n",
    "cisc106.assertEqual(can_pay_rent(1500, 350, 1100), True)\n",
    "cisc106.assertEqual(can_pay_rent(500, 350, 1100), False)\n",
    "cisc106.assertEqual(can_pay_rent(800, 12, 350), True)\n",
    "\n"
   ]
  },
  {
   "cell_type": "markdown",
   "metadata": {},
   "source": [
    "# Conditional Execution"
   ]
  },
  {
   "cell_type": "markdown",
   "metadata": {},
   "source": [
    "### The `if` statement:\n",
    "\n",
    "```\n",
    "if something_true:\n",
    "    do()\n",
    "    some()\n",
    "    stuff()\n",
    "```"
   ]
  },
  {
   "cell_type": "code",
   "execution_count": 12,
   "metadata": {},
   "outputs": [
    {
     "name": "stdout",
     "output_type": "stream",
     "text": [
      "Hey mom and dad, I need a loan\n"
     ]
    }
   ],
   "source": [
    "if not can_pay_rent(1000, 25, 750):\n",
    "    print(\"Hey landlord, can I get an extension\")\n",
    "    print(\"Hey mom and dad, I need a loan\")"
   ]
  },
  {
   "cell_type": "markdown",
   "metadata": {},
   "source": [
    "## Unary Selection\n"
   ]
  },
  {
   "cell_type": "code",
   "execution_count": 15,
   "metadata": {},
   "outputs": [
    {
     "name": "stdout",
     "output_type": "stream",
     "text": [
      "How old are you?85\n"
     ]
    }
   ],
   "source": [
    "age = float(input(\"How old are you?\"))\n",
    "\n",
    "if age > 14 and age < 72.5:\n",
    "    print(\"Perfect, we're hiring, send us a resume!\")\n",
    "    print(\"Our email address is on the website, and we have great benefits!\")\n"
   ]
  },
  {
   "cell_type": "code",
   "execution_count": null,
   "metadata": {},
   "outputs": [],
   "source": []
  },
  {
   "cell_type": "code",
   "execution_count": null,
   "metadata": {},
   "outputs": [],
   "source": []
  },
  {
   "cell_type": "markdown",
   "metadata": {},
   "source": [
    "### Binary Selection (aka: If/Else expressions)\n",
    "\n"
   ]
  },
  {
   "cell_type": "markdown",
   "metadata": {},
   "source": [
    "Binary selection: Do one thing if a condition is true, somethign else if it's false\n",
    "\n",
    "Syntax:\n",
    "\n",
    "```\n",
    "if some_condition:\n",
    "    do_the_thing()\n",
    "else:\n",
    "    do_the_other_thing()\n",
    "    go_on_break()\n",
    "    get_some_coffee()\n",
    "\n",
    "```"
   ]
  },
  {
   "cell_type": "code",
   "execution_count": 16,
   "metadata": {},
   "outputs": [
    {
     "name": "stdout",
     "output_type": "stream",
     "text": [
      "Drop the chek off at the office\n"
     ]
    }
   ],
   "source": [
    "#example where the first statement runs and second one is skipped\n",
    "if can_pay_rent(1000, 25, 750):\n",
    "    print(\"Drop the chek off at the office\")\n",
    "else:\n",
    "    print(\"Your rent is late. Please pay within 15 days (plus a late fee).\")"
   ]
  },
  {
   "cell_type": "code",
   "execution_count": 19,
   "metadata": {},
   "outputs": [
    {
     "name": "stdout",
     "output_type": "stream",
     "text": [
      "Drop the chek off at the office\n"
     ]
    }
   ],
   "source": [
    "# As a function:\n",
    "\n",
    "def message_from_landlord(account_balance, credit_card_balance, rent_due):\n",
    "    if can_pay_rent(account_balance, credit_card_balance, rent_due):\n",
    "        print(\"Drop the chek off at the office\")\n",
    "    else:\n",
    "        print(\"Your rent is late. Please pay within 15 days (plus a late fee).\")\n",
    "        #Make sure you indent properly, see what happens if you unindent this next line\n",
    "        print(\"If you don't pay within that time, you will be evicted at the end of the month.\")\n",
    "    return\n",
    "\n",
    "message_from_landlord(1475,0,750)"
   ]
  },
  {
   "cell_type": "markdown",
   "metadata": {},
   "source": [
    "### Nested If/Else expressions\n",
    "\n",
    "```\n",
    "if is_class_cancelled():\n",
    "    sleep_in()\n",
    "else:\n",
    "    wake_up()\n",
    "    go_to_class()\n",
    "    if am_feeling_tired():\n",
    "        hide_in_back_row()\n",
    "```\n",
    "\n",
    "**Indentation matters here!**"
   ]
  },
  {
   "cell_type": "code",
   "execution_count": 25,
   "metadata": {},
   "outputs": [],
   "source": [
    "#Some setup code\n",
    "def sleep_in():\n",
    "    pass\n",
    "\n",
    "def wake_up():\n",
    "    print(\"yawn. *stretch*\")\n",
    "    return\n",
    "\n",
    "def go_to_class():\n",
    "    print(\"I'm late! Gotta run!\")\n",
    "\n",
    "def hide_in_back_row():\n",
    "    print(\"Must stay ...awake....zzz.zzz.zzz...\")\n",
    "\n",
    "is_class_cancelled = False\n",
    "am_feeling_tired = False\n",
    "\n"
   ]
  },
  {
   "cell_type": "code",
   "execution_count": 27,
   "metadata": {},
   "outputs": [
    {
     "name": "stdout",
     "output_type": "stream",
     "text": [
      "yawn. *stretch*\n",
      "I'm late! Gotta run!\n"
     ]
    }
   ],
   "source": [
    "if is_class_cancelled:\n",
    "    sleep_in()\n",
    "else:\n",
    "    wake_up()\n",
    "    go_to_class()\n",
    "    if am_feeling_tired:\n",
    "        print(\"Too Tired...Gotta hide in back\")\n",
    "        hide_in_back_row()"
   ]
  },
  {
   "cell_type": "code",
   "execution_count": 28,
   "metadata": {},
   "outputs": [
    {
     "name": "stdout",
     "output_type": "stream",
     "text": [
      "yawn. *stretch*\n",
      "I'm late! Gotta run!\n",
      "Must stay ...awake....zzz.zzz.zzz...\n"
     ]
    }
   ],
   "source": [
    "# Here's a version that has a bug! what went wrong here?\n",
    "if is_class_cancelled:\n",
    "    sleep_in()\n",
    "else:\n",
    "    wake_up()\n",
    "    go_to_class()\n",
    "    if am_feeling_tired:\n",
    "        print(\"Too Tired...Gotta hide in back\")\n",
    "    hide_in_back_row()"
   ]
  },
  {
   "cell_type": "markdown",
   "metadata": {},
   "source": [
    "**Exercise on conditional selection:** \n",
    "\n",
    "Let's add a feature to the `can_pay_rent` function from earlier:  \n",
    "Write a function that takes **Four** arguments: `bank_account_balance`, `credit_card_bill`, `credit_card_overdue` and `cost_of_rent` and returns whether the person in question (not saying who...) can pay rent. If the credit card is not overdue, you don't have to pay it yet, just see if there's enough money for rent. Call the function can_pay_rent()."
   ]
  },
  {
   "cell_type": "code",
   "execution_count": null,
   "metadata": {},
   "outputs": [],
   "source": [
    "def can_pay_rent(bank_account_balance, credit_card_bill, credit_card_overdue, cost_of_rent):\n",
    "    pass #Change this to be your code, using selection and conditional statements\n",
    "    \n",
    "## Tests for the new can_pay_rent function\n",
    "cisc106.assertEqual(can_pay_rent(1500, 350, True, 1100), True)\n",
    "cisc106.assertEqual(can_pay_rent(500, 350, False, 1100), False)\n",
    "cisc106.assertEqual(can_pay_rent(1200, 350, False, 1100), True)\n",
    "cisc106.assertEqual(can_pay_rent(800, 12, False, 350), True)"
   ]
  }
 ],
 "metadata": {
  "kernelspec": {
   "display_name": "Python 3",
   "language": "python",
   "name": "python3"
  },
  "language_info": {
   "codemirror_mode": {
    "name": "ipython",
    "version": 3
   },
   "file_extension": ".py",
   "mimetype": "text/x-python",
   "name": "python",
   "nbconvert_exporter": "python",
   "pygments_lexer": "ipython3",
   "version": "3.6.3"
  }
 },
 "nbformat": 4,
 "nbformat_minor": 2
}

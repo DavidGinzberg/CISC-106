{
 "cells": [
  {
   "cell_type": "markdown",
   "metadata": {},
   "source": [
    "# Class Notes\n",
    "\n",
    "Below is a copy of live-coded notes from class Thursday April 18. You can study what we worked on, recreate your own version, or copy them directly into Thonny to re-run the code.\n",
    "\n",
    "In today's class we mainly focused on looking at details for Project 1, and began the conceptual parts for the topic of Objects and Classes (chapter 16)"
   ]
  },
  {
   "cell_type": "markdown",
   "metadata": {},
   "source": [
    "**Code run in the Python Shell**  \n",
    "\n",
    "In addition to the brief examples below, we reviewed the overall structure of Project 1, which is posted on Canvas (the diagram of functions used will be posted as well).\n",
    "\n",
    "```Python\n",
    "Python 3.7.2 (bundled)\n",
    "#Returining multiple values from a function, as a tuple\n",
    ">>> def city_county_state():\n",
    "    city = \"Newark\"\n",
    "    county = \"New Castle\"\n",
    "    state = \"Delaware\"\n",
    "    return city, county, state\n",
    "\n",
    ">>> print(city_county_state())\n",
    "('Newark', 'New Castle', 'Delaware')\n",
    ">>> location = city_county_state()\n",
    ">>> print(location[0])\n",
    "Newark\n",
    ">>> print(location[1])\n",
    "New Castle\n",
    ">>> print(location[2])\n",
    "Delaware\n",
    ">>> current_city, current_county, current_state = city_county_state()\n",
    ">>> print(f\"We're in {current_city}, a city in {current_county}, one of the three counties of {current_state}\")\n",
    "We're in Newark, a city in New Castle, one of the three counties of Delaware\n",
    ">>> first, second = city_county_state()\n",
    "Traceback (most recent call last):\n",
    "  File \"<pyshell>\", line 1, in <module>\n",
    "ValueError: too many values to unpack (expected 2)\n",
    ">>> type(location)\n",
    "<class 'tuple'>\n",
    ">>> location_list = []\n",
    ">>> location_list.append(location[0])\n",
    ">>> print(location_list)\n",
    "['Newark']\n",
    ">>> location.append(\"Memorial Hall\")\n",
    "Traceback (most recent call last):\n",
    "  File \"<pyshell>\", line 1, in <module>\n",
    "AttributeError: 'tuple' object has no attribute 'append'\n",
    ">>> location[0] = 'Wilmington'\n",
    "Traceback (most recent call last):\n",
    "  File \"<pyshell>\", line 1, in <module>\n",
    "TypeError: 'tuple' object does not support item assignment\n",
    ">>> (1,2,5)\n",
    "(1, 2, 5)\n",
    ">>> num_tuple = (1,2,5)\n",
    ">>> type(num_tuple)\n",
    "<class 'tuple'>\n",
    ">>> len(num_tuple)\n",
    "3\n",
    "# Now let's look at Matplotlib, which we'll need for the project (taken from the pdf on Canvas)\n",
    ">>> import matplotlib\n",
    ">>> import matplotlib.pyplot as plt\n",
    "plt.plot([1, 2, 3, 4])\n",
    "plt.ylabel('some numbers')\n",
    "plt.show()\n",
    ">>> \n",
    "```"
   ]
  }
 ],
 "metadata": {
  "kernelspec": {
   "display_name": "Python 3",
   "language": "python",
   "name": "python3"
  },
  "language_info": {
   "codemirror_mode": {
    "name": "ipython",
    "version": 3
   },
   "file_extension": ".py",
   "mimetype": "text/x-python",
   "name": "python",
   "nbconvert_exporter": "python",
   "pygments_lexer": "ipython3",
   "version": "3.6.3"
  }
 },
 "nbformat": 4,
 "nbformat_minor": 2
}

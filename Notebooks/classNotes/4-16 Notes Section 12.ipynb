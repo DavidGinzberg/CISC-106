{
 "cells": [
  {
   "cell_type": "markdown",
   "metadata": {},
   "source": [
    "# Class Notes\n",
    "\n",
    "Below is a copy of live-coded notes from class Tuesday April 16. You can study what we worked on, recreate your own version, or copy them directly into Thonny to re-run the code."
   ]
  },
  {
   "cell_type": "markdown",
   "metadata": {},
   "source": [
    "**names.csv**"
   ]
  },
  {
   "cell_type": "raw",
   "metadata": {},
   "source": [
    "First name,Last name\n",
    "Alexander,Hamilton\n",
    "Napoleon,Bonaparte\n",
    "Marie,Curie\n",
    "Ada,Lovelace\n",
    "Edsgar,Dijkstra\n",
    "Alan,Turing"
   ]
  },
  {
   "cell_type": "markdown",
   "metadata": {},
   "source": [
    "**read_names.py**"
   ]
  },
  {
   "cell_type": "code",
   "execution_count": 1,
   "metadata": {},
   "outputs": [],
   "source": [
    "#set the filename to be read:\n",
    "filename = \"names.csv\"\n",
    "\n",
    "#Open the file for reading:\n",
    "name_file = open(filename, 'r')\n",
    "\n",
    "# Read the heading:\n",
    "heading = name_file.readline()\n",
    "\n",
    "print(f'Heading for {filename}:\\n{heading}')\n",
    "\n",
    "#Print each name\n",
    "\n",
    "'''#Printing each line:\n",
    "for line in name_file:\n",
    "    #What happens if we forget to strip out whitespace?\n",
    "    #name_as_list = line.strip().split(',')\n",
    "    name_as_list = line.split(',')\n",
    "    print(name_as_list)\n",
    "    print(\"As `last,first` format:\")\n",
    "    last_first = name_as_list[1] + ',' + name_as_list[0]\n",
    "    print(last_first)\n",
    "'''\n",
    "\n",
    "#open a file to write to:\n",
    "output_file = open(\"names_reversed.csv\", 'w')\n",
    "\n",
    "#Add header to output file:\n",
    "headers_as_list = heading.strip().split(',')\n",
    "headers_reversed = headers_as_list[1] + ',' + headers_as_list[0]\n",
    "output_file.write(headers_reversed + '\\n')\n",
    "\n",
    "\n",
    "for line in name_file:\n",
    "    name_as_list = line.strip().split(',')\n",
    "    last_first = name_as_list[1] + ',' + name_as_list[0]\n",
    "    # Or we could write the file as:\n",
    "    # output_file.write(name_as_list[1])\n",
    "    # output_file.write(',')\n",
    "    # output_file.write(name_as_list[0])\n",
    "    output_file.write(last_first)\n",
    "    output_file.write('\\n')\n",
    "    \n",
    "output_file.close()\n",
    "name_file.close()\n"
   ]
  },
  {
   "cell_type": "markdown",
   "metadata": {},
   "source": [
    "**Additional Practice**  \n",
    "\n",
    "Revisit the Strings worksheet and try writing the scores in the last question to a file. Read the file and calculate the average scores from the list of quiz scores.\n"
   ]
  }
 ],
 "metadata": {
  "kernelspec": {
   "display_name": "Python 3",
   "language": "python",
   "name": "python3"
  },
  "language_info": {
   "codemirror_mode": {
    "name": "ipython",
    "version": 3
   },
   "file_extension": ".py",
   "mimetype": "text/x-python",
   "name": "python",
   "nbconvert_exporter": "python",
   "pygments_lexer": "ipython3",
   "version": "3.6.3"
  }
 },
 "nbformat": 4,
 "nbformat_minor": 2
}

{
 "cells": [
  {
   "cell_type": "markdown",
   "metadata": {},
   "source": [
    "**Reminder:** *Binder doesn't save your notebooks -- make sure you hit* `file->download as->Notebook (or Python)` *to save a copy for your notes.*"
   ]
  },
  {
   "cell_type": "markdown",
   "metadata": {},
   "source": [
    "# Boolean Logic and Conditionals"
   ]
  },
  {
   "cell_type": "markdown",
   "metadata": {},
   "source": [
    "**History Lesson**: [George Boole](https://en.wikipedia.org/wiki/George_Boole), a mathematician and logician, formalized an algebraic system of logic in which statements could be either True or False. He probably did other things, but they're not important for today's lesson. Because of mister Boole's ideas, we call any value that can be either `True` or `False` a \"Boolean\" value (*FYI: Boolean has three syllables -- say it like this: `bool - ee - in`)"
   ]
  },
  {
   "cell_type": "code",
   "execution_count": 1,
   "metadata": {},
   "outputs": [],
   "source": [
    "import cisc106 # we're going to need this later. Be sure to run this cell"
   ]
  },
  {
   "cell_type": "code",
   "execution_count": 2,
   "metadata": {},
   "outputs": [
    {
     "data": {
      "text/plain": [
       "False"
      ]
     },
     "execution_count": 2,
     "metadata": {},
     "output_type": "execute_result"
    }
   ],
   "source": [
    "False # or True"
   ]
  },
  {
   "cell_type": "code",
   "execution_count": 3,
   "metadata": {},
   "outputs": [
    {
     "data": {
      "text/plain": [
       "'True'"
      ]
     },
     "execution_count": 3,
     "metadata": {},
     "output_type": "execute_result"
    }
   ],
   "source": [
    "\"True\" #They're not strings!"
   ]
  },
  {
   "cell_type": "code",
   "execution_count": 4,
   "metadata": {},
   "outputs": [
    {
     "ename": "NameError",
     "evalue": "name 'false' is not defined",
     "output_type": "error",
     "traceback": [
      "\u001b[1;31m---------------------------------------------------------------------------\u001b[0m",
      "\u001b[1;31mNameError\u001b[0m                                 Traceback (most recent call last)",
      "\u001b[1;32m<ipython-input-4-df1d8bf0dea1>\u001b[0m in \u001b[0;36m<module>\u001b[1;34m\u001b[0m\n\u001b[1;32m----> 1\u001b[1;33m \u001b[0mfalse\u001b[0m \u001b[1;31m# it's not the same thing!\u001b[0m\u001b[1;33m\u001b[0m\u001b[0m\n\u001b[0m",
      "\u001b[1;31mNameError\u001b[0m: name 'false' is not defined"
     ]
    }
   ],
   "source": [
    "false # it's not the same thing!"
   ]
  },
  {
   "cell_type": "markdown",
   "metadata": {},
   "source": [
    "## Boolean Operators\n",
    "\n",
    "##  Basic boolean comparisons (aka: Relational Operators)\n",
    "\n",
    "- `==`: \"Equality/Equivalent\" - Compares two values to see if they are the same. `True` if they are, `False` if they're not\n",
    "- `!=`: \"Not equal\" - Compares two values to see if they are different. `True` if they're different, `False` if they're the same\n",
    "- `>`: \"Greater than\" - `True` if the left-side value is **more than** the right-side value\n",
    "- `<`: \"Less than\" - `True` if the left-side value is **less than** the right-side value\n",
    "- `<=`: \"Less than or equal to\" - `True` if the left side is **less than or equal to** the right side. `False` only if `>` would be `True`\n",
    "- `>=`: \"Greater than or equal to\" - `True` if the left side is **greater than or equal to** the right side. `False` only if the left-side value is less than the right-side value"
   ]
  },
  {
   "cell_type": "code",
   "execution_count": 5,
   "metadata": {},
   "outputs": [
    {
     "data": {
      "text/plain": [
       "True"
      ]
     },
     "execution_count": 5,
     "metadata": {},
     "output_type": "execute_result"
    }
   ],
   "source": [
    "5 == 5"
   ]
  },
  {
   "cell_type": "code",
   "execution_count": 6,
   "metadata": {},
   "outputs": [
    {
     "data": {
      "text/plain": [
       "False"
      ]
     },
     "execution_count": 6,
     "metadata": {},
     "output_type": "execute_result"
    }
   ],
   "source": [
    "5 == \"five\""
   ]
  },
  {
   "cell_type": "code",
   "execution_count": 8,
   "metadata": {},
   "outputs": [
    {
     "data": {
      "text/plain": [
       "True"
      ]
     },
     "execution_count": 8,
     "metadata": {},
     "output_type": "execute_result"
    }
   ],
   "source": [
    "#10 != 45\n",
    "10 != \"10\""
   ]
  },
  {
   "cell_type": "code",
   "execution_count": 9,
   "metadata": {},
   "outputs": [
    {
     "data": {
      "text/plain": [
       "False"
      ]
     },
     "execution_count": 9,
     "metadata": {},
     "output_type": "execute_result"
    }
   ],
   "source": [
    "42 > 42"
   ]
  },
  {
   "cell_type": "code",
   "execution_count": 10,
   "metadata": {},
   "outputs": [
    {
     "data": {
      "text/plain": [
       "True"
      ]
     },
     "execution_count": 10,
     "metadata": {},
     "output_type": "execute_result"
    }
   ],
   "source": [
    "42 >= 42"
   ]
  },
  {
   "cell_type": "code",
   "execution_count": 11,
   "metadata": {},
   "outputs": [
    {
     "name": "stdout",
     "output_type": "stream",
     "text": [
      "This room has as many doors as the building has floors! Dwight: False\n"
     ]
    }
   ],
   "source": [
    "doors = 2\n",
    "floors_in_building = 4\n",
    "\n",
    "print(\"This room has as many doors as the building has floors!\", f\"Dwight: {doors >= floors_in_building}\")"
   ]
  },
  {
   "cell_type": "markdown",
   "metadata": {},
   "source": [
    "## `==` is not `=` !!!\n",
    "\n",
    "- `==` (double equal signs) means \"are these two things the same thing?\". It's a question whose answer is either `True` or `False`\n",
    "- `=` (single equal sign) means \"set this first thing to be the same as this second thing\". It's an action that changes the variable on the left to contain the value on the right\n",
    "\n"
   ]
  },
  {
   "cell_type": "code",
   "execution_count": 12,
   "metadata": {},
   "outputs": [
    {
     "ename": "SyntaxError",
     "evalue": "can't assign to literal (<ipython-input-12-bce7dbe1f5ff>, line 1)",
     "output_type": "error",
     "traceback": [
      "\u001b[1;36m  File \u001b[1;32m\"<ipython-input-12-bce7dbe1f5ff>\"\u001b[1;36m, line \u001b[1;32m1\u001b[0m\n\u001b[1;33m    2 = doors # This won't work! it needs two equal signs\u001b[0m\n\u001b[1;37m                                                         ^\u001b[0m\n\u001b[1;31mSyntaxError\u001b[0m\u001b[1;31m:\u001b[0m can't assign to literal\n"
     ]
    }
   ],
   "source": [
    "2 = doors # This won't work! it needs two equal signs"
   ]
  },
  {
   "cell_type": "markdown",
   "metadata": {},
   "source": [
    "### Logical Operators (combining expressions)\n",
    "\n",
    "We can combine expressions with two keywords: `and`, `or`\n"
   ]
  },
  {
   "cell_type": "code",
   "execution_count": 14,
   "metadata": {},
   "outputs": [
    {
     "name": "stdout",
     "output_type": "stream",
     "text": [
      "Should I try out for an NBA team? False\n",
      "Should I play a pickup game? True\n"
     ]
    }
   ],
   "source": [
    "my_height = 68\n",
    "six_feet = 72\n",
    "\n",
    "\n",
    "I_play_basketball = True\n",
    "\n",
    "#Should I try out for the NBA?\n",
    "should_try_out = I_play_basketball and my_height >= six_feet\n",
    "print(\"Should I try out for an NBA team?\", should_try_out)\n",
    "should_play_pickup = I_play_basketball or my_height >= six_feet\n",
    "print(\"Should I play a pickup game?\", should_play_pickup)"
   ]
  },
  {
   "cell_type": "code",
   "execution_count": 15,
   "metadata": {},
   "outputs": [
    {
     "name": "stdout",
     "output_type": "stream",
     "text": [
      "True and True is: True\n",
      "True and False is: False\n",
      "True or False is: True\n"
     ]
    }
   ],
   "source": [
    "# List the combinations of True and False with both `and` and `or`\n",
    "print(\"True and True is:\", True and True)\n",
    "print(\"True and False is:\", True and False)\n",
    "print(\"True or False is:\", True or False)"
   ]
  },
  {
   "cell_type": "markdown",
   "metadata": {},
   "source": [
    "### Exercise: returning a boolean\n",
    "\n",
    "Write a function that takes one number as an argument, and returns true if that number is greater than 100, and false otherwise."
   ]
  },
  {
   "cell_type": "code",
   "execution_count": 22,
   "metadata": {},
   "outputs": [
    {
     "name": "stdout",
     "output_type": "stream",
     "text": [
      "SUCCESS - [line 12] cisc106.assertEqual(greater_than_one_hundred(9001), True)\n",
      "SUCCESS - [line 13] cisc106.assertEqual(greater_than_one_hundred(101), True)\n",
      "SUCCESS - [line 14] cisc106.assertEqual(greater_than_one_hundred(0), False)\n",
      "SUCCESS - [line 15] cisc106.assertEqual(greater_than_one_hundred(-273.15), False)\n",
      "SUCCESS - [line 16] cisc106.assertEqual(greater_than_one_hundred(100), False)\n"
     ]
    },
    {
     "data": {
      "text/plain": [
       "True"
      ]
     },
     "execution_count": 22,
     "metadata": {},
     "output_type": "execute_result"
    }
   ],
   "source": [
    "import cisc106\n",
    "# Define your function below this line. Look at the tests below to get a hint for its behavior\n",
    "def greater_than_one_hundred(number):\n",
    "    return number > 100 # Not the right answer\n",
    "\n",
    "# Here's an example function that does something else with booleans:\n",
    "def is_five(number):\n",
    "    return number == 5\n",
    "\n",
    "# Here are your tests. Write your function above this line\n",
    "# Add another test for a different value and see if it passes\n",
    "cisc106.assertEqual(greater_than_one_hundred(9001), True)\n",
    "cisc106.assertEqual(greater_than_one_hundred(101), True)\n",
    "cisc106.assertEqual(greater_than_one_hundred(0), False)\n",
    "cisc106.assertEqual(greater_than_one_hundred(-273.15), False)\n",
    "cisc106.assertEqual(greater_than_one_hundred(100), False)"
   ]
  },
  {
   "cell_type": "markdown",
   "metadata": {},
   "source": [
    "### Exercise: Comparing multiple values\n",
    "\n",
    "Write a function that takes three arguments: `bank_account_balance`, `credit_card_bill`, and `cost_of_rent` and returns whether the person in question (not saying who...) can pay rent. Call the function `can_pay_rent()`."
   ]
  },
  {
   "cell_type": "code",
   "execution_count": 26,
   "metadata": {},
   "outputs": [
    {
     "name": "stdout",
     "output_type": "stream",
     "text": [
      "SUCCESS - [line 4] cisc106.assertEqual(can_pay_rent(1000, 12, 600),  True)\n",
      "SUCCESS - [line 5] cisc106.assertEqual(can_pay_rent(1000, 750, 600),  False)\n"
     ]
    },
    {
     "data": {
      "text/plain": [
       "True"
      ]
     },
     "execution_count": 26,
     "metadata": {},
     "output_type": "execute_result"
    }
   ],
   "source": [
    "def can_pay_rent(bank_account_balance, credit_card_bill, cost_of_rent):\n",
    "    return bank_account_balance >= (credit_card_bill + cost_of_rent)\n",
    "\n",
    "cisc106.assertEqual(can_pay_rent(1000, 12, 600),  True)\n",
    "cisc106.assertEqual(can_pay_rent(1000, 750, 600),  False)"
   ]
  },
  {
   "cell_type": "markdown",
   "metadata": {},
   "source": [
    "# Conditional Execution"
   ]
  },
  {
   "cell_type": "markdown",
   "metadata": {},
   "source": [
    "### The `if` statement:\n",
    "\n",
    "```\n",
    "if something_true:\n",
    "    do()\n",
    "    some()\n",
    "    stuff()\n",
    "```"
   ]
  },
  {
   "cell_type": "code",
   "execution_count": 29,
   "metadata": {},
   "outputs": [
    {
     "name": "stdout",
     "output_type": "stream",
     "text": [
      "Congraduations!\n"
     ]
    }
   ],
   "source": [
    "year = 2020\n",
    "undergrad_year = \"Senior\"\n",
    "\n",
    "if year == 2020 and undergrad_year == \"Senior\":\n",
    "    print(\"Congraduations!\")\n",
    "    \n"
   ]
  },
  {
   "cell_type": "markdown",
   "metadata": {},
   "source": [
    "## Unary Selection\n"
   ]
  },
  {
   "cell_type": "markdown",
   "metadata": {},
   "source": [
    "Unary selection is running or not running a single block of code. As seen below"
   ]
  },
  {
   "cell_type": "code",
   "execution_count": 30,
   "metadata": {},
   "outputs": [
    {
     "name": "stdout",
     "output_type": "stream",
     "text": [
      "We should play a game sometime!\n"
     ]
    }
   ],
   "source": [
    "am_tall = my_height > six_feet\n",
    "\n",
    "\n",
    "# Let's see how we can avoid making a silly suggestion\n",
    "if am_tall and not I_play_basketball:\n",
    "    print(\"Hey, you should play basketball\")\n",
    "\n",
    "if I_play_basketball:\n",
    "    print(\"We should play a game sometime!\")\n",
    "\n",
    "if I_play_basketball and am_tall:\n",
    "    print(\"Wow! You should try out for a professional team!\")\n",
    "    \n"
   ]
  },
  {
   "cell_type": "code",
   "execution_count": 36,
   "metadata": {},
   "outputs": [
    {
     "name": "stdout",
     "output_type": "stream",
     "text": [
      "here's someone who doesn't play, but is 6 foot 7 \n",
      "Hey, you should play basketball\n",
      "Now for someone 5ft, who does play\n",
      "We should play a game sometime!\n",
      "Do you go to the Y?\n"
     ]
    }
   ],
   "source": [
    "# Let's change this into a function:\n",
    "\n",
    "def make_basketball_suggestions(my_height, can_play_basketball):\n",
    "    am_tall = my_height > six_feet\n",
    "\n",
    "\n",
    "    # Let's see how we can avoid making a silly suggestion\n",
    "    if am_tall and not can_play_basketball:\n",
    "        print(\"Hey, you should play basketball\")\n",
    "\n",
    "    if can_play_basketball:\n",
    "        print(\"We should play a game sometime!\")\n",
    "        print(\"Do you go to the Y?\") #What happens if we forget to indent this\n",
    "\n",
    "    if can_play_basketball and am_tall:\n",
    "        print(\"Wow! You should try out for a professional team!\")\n",
    "    return\n",
    "\n",
    "print(\"here's someone who doesn't play, but is 6 foot 7 \")\n",
    "make_basketball_suggestions(79, False)\n",
    "\n",
    "print(\"Now for someone 5ft, who does play\")\n",
    "make_basketball_suggestions(60, True)"
   ]
  },
  {
   "cell_type": "markdown",
   "metadata": {},
   "source": [
    "### Binary Selection (aka: If/Else expressions)\n",
    "\n"
   ]
  },
  {
   "cell_type": "code",
   "execution_count": 38,
   "metadata": {},
   "outputs": [
    {
     "name": "stdout",
     "output_type": "stream",
     "text": [
      "I should get some more sleep this morning... False\n"
     ]
    }
   ],
   "source": [
    "def should_sleep_in(class_is_cancelled, gym_is_open):\n",
    "    if class_is_cancelled and not gym_is_open:\n",
    "        return True\n",
    "    else:\n",
    "        return False\n",
    "\n",
    "print(\"I should get some more sleep this morning...\", should_sleep_in(False, True))"
   ]
  },
  {
   "cell_type": "code",
   "execution_count": null,
   "metadata": {},
   "outputs": [],
   "source": []
  },
  {
   "cell_type": "code",
   "execution_count": null,
   "metadata": {},
   "outputs": [],
   "source": []
  },
  {
   "cell_type": "markdown",
   "metadata": {},
   "source": [
    "### Nested If/Else expressions\n",
    "\n",
    "```\n",
    "if is_class_cancelled():\n",
    "    sleep_in()\n",
    "else:\n",
    "    wake_up()\n",
    "    go_to_class()\n",
    "    if am_feeling_tired():\n",
    "        hide_in_back_row()\n",
    "```\n",
    "\n",
    "**Indentation matters here!**"
   ]
  },
  {
   "cell_type": "code",
   "execution_count": null,
   "metadata": {},
   "outputs": [],
   "source": [
    "# Let's define this a little differently:\n",
    "def should_sleep_in(class_is_cancelled, gym_is_open, am_tired):\n",
    "    if not class_is_cancelled\n",
    "        print(\"Go to class! Sleep later.\")\n",
    "        return False\n",
    "    else:\n",
    "        if  not gym_is_open or am_tired:\n",
    "            print(\"Okay, get some rest today, gym this afternoon if it's open.\")\n",
    "            return True\n",
    "        else:\n",
    "            print(\"Gym time now, naptime after lunch!\")\n",
    "            return False\n",
    "\n"
   ]
  },
  {
   "cell_type": "code",
   "execution_count": 42,
   "metadata": {},
   "outputs": [
    {
     "name": "stdout",
     "output_type": "stream",
     "text": [
      "Okay, get some rest today, gym this afternoon\n",
      "SUCCESS - [line 17] cisc106.assertEqual(should_sleep_in(True, True, True), True)\n"
     ]
    },
    {
     "data": {
      "text/plain": [
       "True"
      ]
     },
     "execution_count": 42,
     "metadata": {},
     "output_type": "execute_result"
    }
   ],
   "source": [
    "# That can get more complex. let's see how to simplify it.\n",
    "\n",
    "# Let's define this a little differently:\n",
    "def should_sleep_in(class_is_cancelled, gym_is_open, am_tired):\n",
    "    if not class_is_cancelled:\n",
    "        print(\"Go to class! Sleep later.\")\n",
    "        return False\n",
    "    elif am_tired and gym_is_open:\n",
    "        print(\"Okay, get some rest today, gym this afternoon\")\n",
    "        return True\n",
    "    elif not gym_is_open:\n",
    "        print(\"Nothing's open. it's the snowpocalypse. Go back to sleep.\")\n",
    "    else:\n",
    "        print(\"Gym time now, naptime after lunch!\")\n",
    "        return False\n",
    "    \n",
    "cisc106.assertEqual(should_sleep_in(True, True, True), True)"
   ]
  },
  {
   "cell_type": "markdown",
   "metadata": {},
   "source": [
    "**Exercise on conditional selection:** \n",
    "\n",
    "Let's add a feature to the `can_pay_rent` function from earlier:  \n",
    "Write a function that takes three arguments: `bank_account_balance`, `credit_card_bill`, `credit_card_overdue` and `cost_of_rent` and returns whether the person in question (not saying who...) can pay rent. If the credit card is not overdue, you don't have to pay it yet, just see if there's enough money for rent. Call the function can_pay_rent()."
   ]
  },
  {
   "cell_type": "code",
   "execution_count": 45,
   "metadata": {},
   "outputs": [
    {
     "name": "stdout",
     "output_type": "stream",
     "text": [
      "FAILURE - [line 6] cisc106.assertEqual(can_pay_rent(500, 750, False, 450), True), predicted answer was True, computed answer was None \n",
      "FAILURE - [line 7] cisc106.assertEqual(can_pay_rent(500, 750, True, 450), False), predicted answer was False, computed answer was None \n",
      "FAILURE - [line 8] cisc106.assertEqual(can_pay_rent(2500, 750, True, 450), True), predicted answer was True, computed answer was None \n"
     ]
    },
    {
     "data": {
      "text/plain": [
       "False"
      ]
     },
     "execution_count": 45,
     "metadata": {},
     "output_type": "execute_result"
    }
   ],
   "source": [
    "## Put your function here\n",
    "def can_pay_rent(bank_account_balance, credit_card_bill, credit_card_overdue, cost_of_rent):\n",
    "    pass #replace this with your function definition. Try to get all tests (below) to pass\n",
    "\n",
    "## Tests for the exercise\n",
    "cisc106.assertEqual(can_pay_rent(500, 750, False, 450), True)\n",
    "cisc106.assertEqual(can_pay_rent(500, 750, True, 450), False)\n",
    "cisc106.assertEqual(can_pay_rent(2500, 750, True, 450), True)\n",
    "\n",
    "\n",
    "\n"
   ]
  },
  {
   "cell_type": "code",
   "execution_count": null,
   "metadata": {},
   "outputs": [],
   "source": []
  },
  {
   "cell_type": "code",
   "execution_count": null,
   "metadata": {},
   "outputs": [],
   "source": []
  }
 ],
 "metadata": {
  "kernelspec": {
   "display_name": "Python 3",
   "language": "python",
   "name": "python3"
  },
  "language_info": {
   "codemirror_mode": {
    "name": "ipython",
    "version": 3
   },
   "file_extension": ".py",
   "mimetype": "text/x-python",
   "name": "python",
   "nbconvert_exporter": "python",
   "pygments_lexer": "ipython3",
   "version": "3.6.3"
  }
 },
 "nbformat": 4,
 "nbformat_minor": 2
}

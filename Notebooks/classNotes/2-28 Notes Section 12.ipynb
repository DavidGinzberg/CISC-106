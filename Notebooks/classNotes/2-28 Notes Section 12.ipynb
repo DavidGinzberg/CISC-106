{
 "cells": [
  {
   "cell_type": "markdown",
   "metadata": {},
   "source": [
    "# Class Notes\n",
    "\n",
    "Below is a copy of live-coded notes from class Thursday 2/28. You can study what we worked on, recreate your own version, or copy them directly into Thonny to re-run the code."
   ]
  },
  {
   "cell_type": "markdown",
   "metadata": {},
   "source": [
    "**hello_world_function_demo.py**"
   ]
  },
  {
   "cell_type": "code",
   "execution_count": 1,
   "metadata": {},
   "outputs": [],
   "source": [
    "\n",
    "def hello_world():\n",
    "    \"\"\"\n",
    "    A simple function that just prints hello world.\n",
    "    Arguments: None\n",
    "    \"\"\"\n",
    "    \n",
    "    print(\"Hello World!\")\n",
    "    return\n",
    "\n",
    "\n",
    "def greet_person(name):\n",
    "    \"\"\"\n",
    "    A simple function that Greets someone\n",
    "    Arguments: name -- the name of the person to greet\n",
    "    \"\"\"\n",
    "    \n",
    "    print(\"Hello \" + name + \"!\")\n",
    "    return\n"
   ]
  },
  {
   "cell_type": "markdown",
   "metadata": {},
   "source": [
    "**square_function_demo.py**"
   ]
  },
  {
   "cell_type": "code",
   "execution_count": 3,
   "metadata": {},
   "outputs": [
    {
     "name": "stdout",
     "output_type": "stream",
     "text": [
      "SUCCESS - [line 18] cisc106.assertEqual(square(7), 49)\n",
      "SUCCESS - [line 19] cisc106.assertEqual(square(0), 0)\n",
      "SUCCESS - [line 20] cisc106.assertEqual(mean(1,1,1), 1)\n"
     ]
    },
    {
     "data": {
      "text/plain": [
       "True"
      ]
     },
     "execution_count": 3,
     "metadata": {},
     "output_type": "execute_result"
    }
   ],
   "source": [
    "def square(x):\n",
    "    '''\n",
    "    Returns x *x.\n",
    "    '''\n",
    "    sq_x = x*x\n",
    "    return sq_x\n",
    "\n",
    "def mean(first, second, third):\n",
    "    '''\n",
    "    Calculates the average of three numbers\n",
    "    '''\n",
    "    \n",
    "    total = first + second + third\n",
    "    avg = total / 3\n",
    "    return avg\n",
    "\n",
    "import cisc106\n",
    "cisc106.assertEqual(square(7), 49)\n",
    "cisc106.assertEqual(square(0), 0)\n",
    "cisc106.assertEqual(mean(1,1,1), 1)\n",
    "    \n"
   ]
  }
 ],
 "metadata": {
  "kernelspec": {
   "display_name": "Python 3",
   "language": "python",
   "name": "python3"
  },
  "language_info": {
   "codemirror_mode": {
    "name": "ipython",
    "version": 3
   },
   "file_extension": ".py",
   "mimetype": "text/x-python",
   "name": "python",
   "nbconvert_exporter": "python",
   "pygments_lexer": "ipython3",
   "version": "3.6.3"
  }
 },
 "nbformat": 4,
 "nbformat_minor": 2
}

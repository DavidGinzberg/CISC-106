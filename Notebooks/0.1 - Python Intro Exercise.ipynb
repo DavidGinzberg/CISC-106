{
 "cells": [
  {
   "cell_type": "markdown",
   "metadata": {},
   "source": [
    "# In class exercise:\n",
    "# In pairs, print both your names\n",
    "# Then print both your heights\n",
    "# Then print the sum of your heights"
   ]
  },
  {
   "cell_type": "code",
   "execution_count": 1,
   "metadata": {},
   "outputs": [],
   "source": [
    "# You can run your code here (if you're running Binder), or in Thonny or any other python IDE you are using"
   ]
  },
  {
   "cell_type": "markdown",
   "metadata": {},
   "source": [
    "Here's a little sample code Demonstrating everything you need to know for this exercise:"
   ]
  },
  {
   "cell_type": "code",
   "execution_count": 2,
   "metadata": {},
   "outputs": [
    {
     "name": "stdout",
     "output_type": "stream",
     "text": [
      "Hello\n"
     ]
    }
   ],
   "source": [
    "# Printing some text:\n",
    "print(\"Hello\")"
   ]
  },
  {
   "cell_type": "code",
   "execution_count": 3,
   "metadata": {},
   "outputs": [],
   "source": [
    "# Calculating and storing a value:\n",
    "product = 6 * 7 # NOTE: We use an asterisk * for multiplication\n",
    "\n",
    "# \"product\" on the line above is what's called a variable"
   ]
  },
  {
   "cell_type": "code",
   "execution_count": 4,
   "metadata": {},
   "outputs": [
    {
     "name": "stdout",
     "output_type": "stream",
     "text": [
      "42\n"
     ]
    }
   ],
   "source": [
    "# Hmm, when we store data it doesn't get displayed, so lets print that value:\n",
    "print(product)"
   ]
  },
  {
   "cell_type": "code",
   "execution_count": 5,
   "metadata": {},
   "outputs": [],
   "source": [
    "# Let's say we've been working on this lesson for exactly fifteen minutes and thirty-seven seconds. How many seconds is that?\n",
    "total_seconds = (15 * 60) + 37 # Notice the parenthesis. This would work without them, but other calculations might not"
   ]
  },
  {
   "cell_type": "code",
   "execution_count": 6,
   "metadata": {},
   "outputs": [
    {
     "name": "stdout",
     "output_type": "stream",
     "text": [
      "Fifteen minutes and thirty-seven seconds is a total of  937  seconds!\n"
     ]
    }
   ],
   "source": [
    "# Okay, that didn't print anything, we already knew it wouldn't.\n",
    "# Here's a neat trick to print a value along with some descriptive text:\n",
    "print(\"Fifteen minutes and thirty-seven seconds is a total of \", total_seconds, \" seconds!\")"
   ]
  }
 ],
 "metadata": {
  "kernelspec": {
   "display_name": "Python 3",
   "language": "python",
   "name": "python3"
  },
  "language_info": {
   "codemirror_mode": {
    "name": "ipython",
    "version": 3
   },
   "file_extension": ".py",
   "mimetype": "text/x-python",
   "name": "python",
   "nbconvert_exporter": "python",
   "pygments_lexer": "ipython3",
   "version": "3.6.3"
  }
 },
 "nbformat": 4,
 "nbformat_minor": 2
}

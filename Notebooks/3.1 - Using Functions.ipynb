{
 "cells": [
  {
   "cell_type": "markdown",
   "metadata": {},
   "source": [
    "# Functions\n",
    "\n",
    "Sometimes we have a chunk of code that gets repeated many times in a program. It can be useful to wrap up that chunk of code in some kind of a named block, like `the_thing` and every time we want to use it, just tell our program to `do the_thing`.\n",
    "\n",
    "Python, like many languages, has a feature for just this sort of occasion. It's called a \"Function\", and you've already used several."
   ]
  },
  {
   "cell_type": "markdown",
   "metadata": {},
   "source": [
    "## Examples of functions\n",
    "\n",
    "Up until now, you've used only a handful of commands in your programs. The ones that included parenthesis, you know: `(` and `)`, are a type of command called functions. `print()`, `type()`, `input()` and all of the typecasting commands like `float()` and `int()` are examples of functions."
   ]
  },
  {
   "cell_type": "markdown",
   "metadata": {},
   "source": [
    "## Function syntax\n",
    "\n",
    "Functions have a few parts. Let's look at each of them:\n",
    "\n",
    "The arguments - sometimes also called parameters\n",
    "\n",
    "The return value\n",
    "\n",
    "Function body (part of a function definition. more on that below)"
   ]
  },
  {
   "cell_type": "markdown",
   "metadata": {},
   "source": [
    "### Function Name\n",
    "\n",
    "Every function has a name, it's the most obvious part. A function's name is the word or words you type to use that function. We call this \"Calling\" the function, because you have to call it's name to run it."
   ]
  },
  {
   "cell_type": "markdown",
   "metadata": {},
   "source": [
    "### Function Arguments\n",
    "\n",
    "Most functions operate on some kind of data given to them at the time they're called. That's what goes inside the parenthesis. Some functions take no arguments (like `globals()` or `locals()` -- give them a try!) while others take one, or two, or sometimes even an unlimited number of arguments."
   ]
  },
  {
   "cell_type": "markdown",
   "metadata": {},
   "source": [
    "### Return values\n",
    "\n",
    "When you call a function, it often evaluates to a value. We usually want to use that value for something, so usually it's either saved to a variable or passed to another function. "
   ]
  },
  {
   "cell_type": "code",
   "execution_count": null,
   "metadata": {},
   "outputs": [],
   "source": [
    "# Use the min and max functions to find the highest and lowest scores for these Jeopardy All-Stars players:\n",
    "\n",
    "# Example: `biggest_number = max(3, 1, 2)`\n",
    "\n",
    "\n",
    "jennifer_sore = 8\n",
    "buzzy_score = 10\n",
    "larissa_sore = 24\n",
    "alan_score = 12\n",
    "\n",
    "lowest_score = ___\n",
    "highest_score = ___\n",
    "\n",
    "print(\"The highest score is:\", highest_score)\n",
    "print(\"The lowest score is:\", lowest_score)"
   ]
  },
  {
   "cell_type": "markdown",
   "metadata": {},
   "source": [
    "Let's look at some examples of functions and break them down"
   ]
  },
  {
   "cell_type": "code",
   "execution_count": 3,
   "metadata": {},
   "outputs": [
    {
     "name": "stdout",
     "output_type": "stream",
     "text": [
      "Print is a function\n",
      "It has no return value\n",
      "but it can receive many arguments\n",
      "Here is its return value: None\n",
      "And the type of that value: <class 'NoneType'>\n"
     ]
    }
   ],
   "source": [
    "print(\"Print is a function\")\n",
    "print_ret = print(\"It has no return value\")\n",
    "print(\"but\", \"it\", \"can\", \"receive\", \"many\", \"arguments\")\n",
    "print(f\"Here is its return value: {print_ret}\\nAnd the type of that value: {type(print_ret)}\")"
   ]
  },
  {
   "cell_type": "code",
   "execution_count": 8,
   "metadata": {},
   "outputs": [
    {
     "name": "stdout",
     "output_type": "stream",
     "text": [
      "Help on method raw_input in module ipykernel.kernelbase:\n",
      "\n",
      "raw_input(prompt='') method of ipykernel.ipkernel.IPythonKernel instance\n",
      "    Forward raw_input to frontends\n",
      "    \n",
      "    Raises\n",
      "    ------\n",
      "    StdinNotImplentedError if active frontend doesn't support stdin.\n",
      "\n"
     ]
    }
   ],
   "source": [
    "help(input)"
   ]
  },
  {
   "cell_type": "code",
   "execution_count": 9,
   "metadata": {},
   "outputs": [
    {
     "name": "stdout",
     "output_type": "stream",
     "text": [
      "Help on function say_hello in module __main__:\n",
      "\n",
      "say_hello(name='')\n",
      "\n"
     ]
    }
   ],
   "source": [
    "def say_hello(name=\"\"):\n",
    "    print(\"Hello\", name)\n",
    "\n",
    "help(say_hello)"
   ]
  },
  {
   "cell_type": "code",
   "execution_count": 14,
   "metadata": {},
   "outputs": [],
   "source": [
    "def say_hello(name=\"\"):\n",
    "    \"\"\"\n",
    "    A function that says hello to whoever's name is listed in the optional argument `name`\n",
    "    \"\"\"\n",
    "    print(\"Hello\", name)\n",
    "    print(\"It's a pleasure to meet you\", name)"
   ]
  },
  {
   "cell_type": "code",
   "execution_count": 15,
   "metadata": {},
   "outputs": [
    {
     "name": "stdout",
     "output_type": "stream",
     "text": [
      "Help on function say_hello in module __main__:\n",
      "\n",
      "say_hello(name='')\n",
      "    A function that says hello to whoever's name is listed in the optional argument `name`\n",
      "\n"
     ]
    }
   ],
   "source": [
    "help(say_hello)"
   ]
  },
  {
   "cell_type": "code",
   "execution_count": 16,
   "metadata": {},
   "outputs": [
    {
     "name": "stdout",
     "output_type": "stream",
     "text": [
      "Hello Bob\n",
      "It's a pleasure to meet you Bob\n"
     ]
    }
   ],
   "source": [
    "say_hello(\"Bob\")"
   ]
  },
  {
   "cell_type": "code",
   "execution_count": 18,
   "metadata": {},
   "outputs": [
    {
     "name": "stdout",
     "output_type": "stream",
     "text": [
      "Hello Sally\n",
      "It's a pleasure to meet you Sally\n",
      "Hello Hamid\n",
      "It's a pleasure to meet you Hamid\n",
      "Hello \n",
      "It's a pleasure to meet you \n"
     ]
    }
   ],
   "source": [
    "say_hello(\"Sally\")\n",
    "say_hello(\"Hamid\")\n",
    "say_hello()"
   ]
  },
  {
   "cell_type": "markdown",
   "metadata": {},
   "source": [
    "**Curriculum writing notes:** \n",
    "\n",
    "Look at pdf of slides on canvas for content comparison\n",
    "\n",
    "**Points to cover**\n",
    "\n",
    "- Calling functions\n",
    "- optional arguments\n",
    "- docstrings\n",
    "- return values\n",
    "- Side effects\n",
    "- Whatever else is mentioned in the reading\n",
    "- Scope within functions"
   ]
  },
  {
   "cell_type": "code",
   "execution_count": 6,
   "metadata": {},
   "outputs": [
    {
     "data": {
      "text/plain": [
       "'hello'"
      ]
     },
     "execution_count": 6,
     "metadata": {},
     "output_type": "execute_result"
    }
   ],
   "source": [
    "\"Hello\".lower()"
   ]
  }
 ],
 "metadata": {
  "kernelspec": {
   "display_name": "Python 3",
   "language": "python",
   "name": "python3"
  },
  "language_info": {
   "codemirror_mode": {
    "name": "ipython",
    "version": 3
   },
   "file_extension": ".py",
   "mimetype": "text/x-python",
   "name": "python",
   "nbconvert_exporter": "python",
   "pygments_lexer": "ipython3",
   "version": "3.6.3"
  }
 },
 "nbformat": 4,
 "nbformat_minor": 2
}

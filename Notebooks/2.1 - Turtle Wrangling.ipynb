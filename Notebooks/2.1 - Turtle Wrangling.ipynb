{
 "cells": [
  {
   "cell_type": "markdown",
   "metadata": {},
   "source": [
    "# Turtles all the way\n",
    "\n",
    "Unfortunately turtle graphics don't work in online jupyter notebooks. They seem to work fine running locally though. For now it's best to run this in Thonny instead."
   ]
  },
  {
   "cell_type": "code",
   "execution_count": 1,
   "metadata": {},
   "outputs": [],
   "source": [
    "import turtle"
   ]
  },
  {
   "cell_type": "code",
   "execution_count": 2,
   "metadata": {},
   "outputs": [],
   "source": [
    "window = turtle.Screen()\n",
    "window.bgcolor(\"lightgreen\")"
   ]
  },
  {
   "cell_type": "code",
   "execution_count": 3,
   "metadata": {},
   "outputs": [],
   "source": [
    "larry = turtle.Turtle()\n",
    "mo = turtle.Turtle()\n",
    "curly = turtle.Turtle()"
   ]
  },
  {
   "cell_type": "code",
   "execution_count": 9,
   "metadata": {},
   "outputs": [],
   "source": [
    "for turt in [larry, mo, curly]:\n",
    "    turt.reset()\n",
    "    turt.width(3)\n",
    "    turt.speed(\"fastest\")\n",
    "\n",
    "mo.color(\"Blue\")\n",
    "curly.color(\"Orange\")"
   ]
  },
  {
   "cell_type": "code",
   "execution_count": 10,
   "metadata": {},
   "outputs": [],
   "source": [
    "for n in range(0,100):\n",
    "    larry.right(30)\n",
    "    mo.left(30)\n",
    "    curly.left(60)\n",
    "    for turt in [larry, mo, curly]:\n",
    "        turt.forward(25)\n",
    "    larry.left(45)\n",
    "    mo.right(45)\n",
    "    curly.left(15)\n",
    "    for turt in [larry, mo, curly]:\n",
    "        turt.forward(25)\n",
    "\n"
   ]
  },
  {
   "cell_type": "code",
   "execution_count": 6,
   "metadata": {},
   "outputs": [],
   "source": [
    "# Exit\n",
    "window.exitonclick()"
   ]
  },
  {
   "cell_type": "code",
   "execution_count": 9,
   "metadata": {},
   "outputs": [],
   "source": []
  },
  {
   "cell_type": "code",
   "execution_count": null,
   "metadata": {},
   "outputs": [],
   "source": []
  }
 ],
 "metadata": {
  "kernelspec": {
   "display_name": "Python 3",
   "language": "python",
   "name": "python3"
  },
  "language_info": {
   "codemirror_mode": {
    "name": "ipython",
    "version": 3
   },
   "file_extension": ".py",
   "mimetype": "text/x-python",
   "name": "python",
   "nbconvert_exporter": "python",
   "pygments_lexer": "ipython3",
   "version": "3.6.3"
  }
 },
 "nbformat": 4,
 "nbformat_minor": 2
}

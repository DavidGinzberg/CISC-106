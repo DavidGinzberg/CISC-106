{
 "cells": [
  {
   "cell_type": "markdown",
   "metadata": {},
   "source": [
    "This is a worksheet focused on working with matrices in MATLAB. You can complete it in this online environment, or go through each step in your own MATLAB environment (use `File->Download As->Octave(.m)` to get a Matlab-Compatible file you can load.)"
   ]
  },
  {
   "attachments": {},
   "cell_type": "markdown",
   "metadata": {},
   "source": [
    "## MATLAB Functions\n",
    "\n",
    "Matlab has a number of built-in functions available for generating and manipulating matrices. Here are a few examples:\n",
    "\n",
    "- `abs(A)` - returns an array with absolute values of each element in array A\n",
    "- `sqrt(A)` - returns an array with the square root values of each element in array A\n",
    "- `disp('hey')` - like Python print – displays 'hey' in command window\n",
    "\n",
    "Try running the following code below, to see the result:\n",
    "\n",
    "```Octave\n",
    "A = 4:-1:-4 \n",
    "B = abs(A) \n",
    "C = sqrt(B)\n",
    "disp(‘Hello MATLAB’)\n",
    "```"
   ]
  },
  {
   "cell_type": "code",
   "execution_count": null,
   "metadata": {},
   "outputs": [],
   "source": [
    "%Enter your code in this cell\n",
    "\n"
   ]
  },
  {
   "attachments": {},
   "cell_type": "markdown",
   "metadata": {},
   "source": [
    "We can also use the following built-in functions to create arrays:\n",
    "\n",
    "- `ones(rows,cols)` – all ones\n",
    "- `zeros(rows,cols)` – all zeros \n",
    "- `rand(rows,cols)` – uniformly distributed random elements\n",
    "- `randi([min_val,max_val],rows,cols)` – random integers between min_val and max_val (inclusive)\n",
    "\n",
    "Try each of them below. Here are some examples, or you can try with other parameters\n",
    "\n",
    "```Octave\n",
    "all_ones = ones(2,3)\n",
    "all_fives = 5 * ones(2,3)\n",
    "all_zeros  = zeros(5,8)\n",
    "random_decimals = rand(4,5)\n",
    "random_integers = randi([3,8],5,6)\n",
    "```"
   ]
  },
  {
   "cell_type": "code",
   "execution_count": null,
   "metadata": {},
   "outputs": [],
   "source": []
  },
  {
   "cell_type": "markdown",
   "metadata": {},
   "source": [
    "## MATLAB Variables\n",
    "\n",
    "**Variable Names**\n",
    "\n",
    "Notice that the variables we've been using have similar rules to Python variables, and like Python, variables are created the moment we assign a value to them (using `=`). Here are the actual rules for MATLAB variable names:\n",
    "\n",
    "- Must start with a letter - can have numbers, letters, underscores\n",
    "- Case sensitive\n",
    "- Don’t need to declare\n",
    "- You can make the variables any length \n",
    "  – MATLAB actually only uses the first N characters to identify the variable – make first N characters unique \n",
    "  - N = number returned by the `namelengthmax` function\n",
    "\n",
    "Try: `length_var_name = namelengthmax` to see what the limit is for variable names"
   ]
  },
  {
   "cell_type": "code",
   "execution_count": null,
   "metadata": {},
   "outputs": [],
   "source": [
    "\n"
   ]
  },
  {
   "cell_type": "markdown",
   "metadata": {},
   "source": [
    "*You may have noticed we didn't use parenthesis to call the `namelengthmax` function. In matlab, a function that does not require any arguments can be called with or without parenthesis (so `namelengthmax` and `namelengthmax()` should give you the same result)*"
   ]
  },
  {
   "cell_type": "markdown",
   "metadata": {},
   "source": [
    "*Variables are arrays*\n",
    "\n",
    "Any value assigned to a variable gets converted to an array. If it's only one value, it's a 1x1 array (one row, one column). If you reassign values to an array MATLAB will resize it.\n",
    "\n",
    "Try the example below, then try using the `size()` function on some of the variables you created earlier to see their dimensions.\n",
    "\n",
    "```Octave\n",
    "v = 15\n",
    "size(v)\n",
    "v = [15,16,17,18]\n",
    "size(v)\n",
    "```"
   ]
  },
  {
   "cell_type": "code",
   "execution_count": null,
   "metadata": {},
   "outputs": [],
   "source": [
    "% Try checking the size of a few variables here\n",
    "\n"
   ]
  },
  {
   "cell_type": "markdown",
   "metadata": {},
   "source": [
    "## Matrix Math\n",
    "\n",
    "Matlab has several operations and functions for matrix math. We won't get into matrix math in much detail in this course, but it is a key feature of MATLAB that you may have to use often. Here are some of the basics:\n",
    "\n",
    "Given two matrices, A and B:\n",
    "\n",
    "- The `*` operator performs matrix multiplication \n",
    "  - eg: `A*B` calculates A x B\n",
    "- The  `/` operator multiplies the first matrix by the inverse of the second\n",
    "  - eg: `A/B` calculates A x inverse(B), which is equivalent to `A * inv(B)`\n",
    "- The `\\` operator multiplies the inverse of the firs tmatrix by the second\n",
    "  - eg: `A\\B` calculates inverse(A) x B, which is equivalent to `inv(A) * B`\n",
    "\n",
    "Try the following examples below. You can type in a specific matrix for each of A and B, or leave them to be randomly generated.\n",
    "\n",
    "```Octave\n",
    "A = randi([1,9], 3,3)\n",
    "B = randi([1,9], 3,3)\n",
    "C = A*B\n",
    "D = B*A\n",
    "E = A/B\n",
    "F = A\\B\n",
    "```\n",
    "\n",
    "Note: Unlike the arithmetic we're used to, matrix multiplication is not a symmetrical operation. Notice that C and D are different"
   ]
  },
  {
   "cell_type": "code",
   "execution_count": null,
   "metadata": {},
   "outputs": [],
   "source": []
  },
  {
   "cell_type": "markdown",
   "metadata": {},
   "source": [
    "**Element-wise Operations**\n",
    "\n",
    "What if we just wanted to multiply each element in A by the element in the same position of B?\n",
    "\n",
    "We can do that with element-wise operations. The element-wise operator is the dot (`.`) placed before a matrix operator. That means that:\n",
    "\n",
    "- `.*` is element-wise multiplication \n",
    "- `./` is element-wise division (`A ./ B` = Each element in A divided by each element in B)\n",
    "- `.\\` is element-wise division from right to left (`A .\\ B` = Each element in B divided by each element in A)\n",
    "\n",
    "The two matrices have to have the same dimension in one direction, and if one is longer(or taller) than the other, the elements will be repated in that direction.\n",
    "\n",
    "Try each of the element-wise operations on the following matrices:\n",
    "\n",
    "```Octave\n",
    "G = [1 2 3 4]\n",
    "F = [5 6 7 8]\n",
    "all_ones = ones(4,4)\n",
    "all_fives = 5 * all_ones\n",
    "% A few examples, try some others to see how they work\n",
    "F ./ G\n",
    "all_fives .\\ F\n",
    "F .* all_ones\n",
    "```"
   ]
  },
  {
   "cell_type": "code",
   "execution_count": null,
   "metadata": {},
   "outputs": [],
   "source": []
  },
  {
   "cell_type": "markdown",
   "metadata": {},
   "source": [
    "**Deletion**\n",
    "\n",
    "You can delete a row or column using the delete operator (`[]`).\n",
    "\n",
    "Given a matrix X – if you use colon operator to refer to a slice and set it\n",
    "equal to `[]` – it means remove that slice. \n",
    "\n",
    "- `X(:,2) = [ ]` – set all rows  & second column  to `[ ]` – deletes 2nd column\n",
    "- `X(3,:) = [ ]`  – set row 3 & all columns to `[ ]` - deletes 3rd row\n",
    "- **Note:** `X(1,2) = []` – causes an error – can’t remove one element this way \n",
    "  - need to use linear indexing to remove single element - reshapes to row vector\n",
    "  \n",
    "Create  a 5 x 5 matrix of the numbers 1:25. Then use the deletion operator to:\n",
    "\n",
    "- delete the second row\n",
    "- delete the fourth column\n",
    "- delete the element in position 10 (remember to use linear indexing, eg: `X(4) = []`"
   ]
  },
  {
   "cell_type": "code",
   "execution_count": null,
   "metadata": {},
   "outputs": [],
   "source": []
  }
 ],
 "metadata": {
  "kernelspec": {
   "display_name": "Octave",
   "language": "octave",
   "name": "octave"
  },
  "language_info": {
   "file_extension": ".m",
   "help_links": [
    {
     "text": "GNU Octave",
     "url": "https://www.gnu.org/software/octave/support.html"
    },
    {
     "text": "Octave Kernel",
     "url": "https://github.com/Calysto/octave_kernel"
    },
    {
     "text": "MetaKernel Magics",
     "url": "https://metakernel.readthedocs.io/en/latest/source/README.html"
    }
   ],
   "mimetype": "text/x-octave",
   "name": "octave",
   "version": "5.1.0"
  }
 },
 "nbformat": 4,
 "nbformat_minor": 2
}

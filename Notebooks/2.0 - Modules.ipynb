{
 "cells": [
  {
   "cell_type": "markdown",
   "metadata": {},
   "source": [
    "# Modules\n",
    "\n",
    "Programmers used to spend a lot of time reinventing the wheel, now we use large collections of reusable code to save time. These collections have different names in different languages (eg: packages, libraries, superpowers), in Python they are called Modules"
   ]
  },
  {
   "cell_type": "markdown",
   "metadata": {},
   "source": [
    "## Standard Library\n",
    "\n",
    "Python has a large collection of modules available by default as part of what's called the \"Standard Library\". You'll see references to many of these modules in the [Python Documentation (https://docs.python.org/3/)](https://docs.python.org/3/) and can find the full list in the [Global Module Index (https://docs.python.org/3/py-modindex.html)](https://docs.python.org/3/py-modindex.html).  \n",
    "This isn't every module that exists for python, it's just all the ones that come pre-packaged. Later we'll see how to use modules that aren't bart of the Standard Library"
   ]
  },
  {
   "cell_type": "markdown",
   "metadata": {},
   "source": [
    "## Using Modules"
   ]
  },
  {
   "cell_type": "markdown",
   "metadata": {},
   "source": [
    "There are lots of modules we could use as an example. Let's start with a very practical one: `math`. Try using the `sqrt()` function from the `math` module to calculate the square root of a big number (like 16). The syntax for using a function that's part of a module is `module_name.function_name(function_parameters)` so for `sqrt()` that will look like `math.sqrt(12345)`. Try it in the cell below"
   ]
  },
  {
   "cell_type": "code",
   "execution_count": null,
   "metadata": {},
   "outputs": [],
   "source": [
    "# Try using the sqrt() function here. Press the 'Run' button above or hit [SHIFT]+[ENTER] to run this cell\n"
   ]
  },
  {
   "cell_type": "markdown",
   "metadata": {},
   "source": [
    "**OOPS!** Just because modules came pre-installed with Python, doesn't mean they're ready to use from line 1. First you have to activate the modules you want by `import`ing them. Let's try that again in the next cell, but this time `import math` first (on a separate line)  \n",
    "*NOTE: `NameError` on a module name almost always means you forgot to import it (or typed its name worng!)*"
   ]
  },
  {
   "cell_type": "code",
   "execution_count": null,
   "metadata": {},
   "outputs": [],
   "source": [
    "# Try it again, but don't forget that import statement first\n"
   ]
  },
  {
   "cell_type": "markdown",
   "metadata": {},
   "source": [
    "Got that working? Great, now lets see what else the `math` module has available. You can use `dir()` on a module to see its contents, and the `help()` function will tell you a little about each name you see listed (eg: `help(math.sqrt)` to learn about the function we just used, or `help(math)` for details on the whole module). For now, ignore anything that starts with underscores (eg: `__doc__`)"
   ]
  },
  {
   "cell_type": "code",
   "execution_count": null,
   "metadata": {},
   "outputs": [],
   "source": [
    "# Try out the dir() and help() functions here and use them to explore the math module"
   ]
  },
  {
   "cell_type": "markdown",
   "metadata": {},
   "source": [
    "Alright, now that you know what else is is available in the `math` module, try using a few of the other functions there. When you're done, or if you can't think of anything, try figuring out what units trig functions (sine, cosine, etc) use, and calculate the sine of a 180 degree angle."
   ]
  },
  {
   "cell_type": "code",
   "execution_count": null,
   "metadata": {},
   "outputs": [],
   "source": [
    "# Use this cell to experiment as much as you like. You can re-run it any number of times."
   ]
  },
  {
   "cell_type": "markdown",
   "metadata": {},
   "source": [
    "Remember that rounding error with floating point numbers? It shows up in the `math` module too. There's a function called `round()` that's not part of `math` but it'll come in handy. Go ahead and use it to get a more readable value for that sine calculation.  \n",
    "*NOTE: `round` can take one or values, called arguments. The first is the number to round, the second is an optional level of precision that's 0 by default*"
   ]
  },
  {
   "cell_type": "code",
   "execution_count": 36,
   "metadata": {},
   "outputs": [],
   "source": [
    "# Try to get an exact number for that last calculation, without the floating point rounding error."
   ]
  },
  {
   "cell_type": "markdown",
   "metadata": {},
   "source": [
    "## Challenge Question\n",
    "\n",
    "Alright, now for something a little challenging: using a few topics we've covered previously. Using the `input()` function, and a couple of math functions, write a short program in the next cell that asks someone to put in a number for the size of a circle, and then uses some `math` functions to calculate and print out the area and circumference of that circle.  \n",
    "*Reminder: the result of the input function should be stored in a variable, eg: `name = input(\"What's your name?\")*"
   ]
  },
  {
   "cell_type": "code",
   "execution_count": null,
   "metadata": {},
   "outputs": [],
   "source": []
  }
 ],
 "metadata": {
  "kernelspec": {
   "display_name": "Python 3",
   "language": "python",
   "name": "python3"
  },
  "language_info": {
   "codemirror_mode": {
    "name": "ipython",
    "version": 3
   },
   "file_extension": ".py",
   "mimetype": "text/x-python",
   "name": "python",
   "nbconvert_exporter": "python",
   "pygments_lexer": "ipython3",
   "version": "3.6.3"
  }
 },
 "nbformat": 4,
 "nbformat_minor": 2
}

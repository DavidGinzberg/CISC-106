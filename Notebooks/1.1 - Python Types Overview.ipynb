{
 "cells": [
  {
   "cell_type": "markdown",
   "metadata": {},
   "source": [
    "# Python Types\n",
    "\n",
    "Python has many data types, sometimes called \"classes\" (think \"classifications of data\"). We'll use some, and might even eventaully create a few of our own. For now we're going to focus on a small list of them. Before we dive into data types, we need to talk about values."
   ]
  },
  {
   "cell_type": "markdown",
   "metadata": {},
   "source": [
    "## Values\n",
    "\n",
    "Punctuality and hygiene are important values, but not what we're talking abou here. Values are the things a program manipulates. In Python values are stored as things called \"objects\" (literally everything in Python is an object) but we won't get to objects for at least a month or two. Here are some exmples of Python values:\n",
    "\n",
    "```Python\n",
    "\"Knowing where your towel is\"\n",
    "42\n",
    "4.184\n",
    "```"
   ]
  },
  {
   "cell_type": "code",
   "execution_count": null,
   "metadata": {
    "scrolled": true
   },
   "outputs": [],
   "source": [
    "print(type(42))\n",
    "print(type(\"Knowing where your towel is\"))"
   ]
  },
  {
   "cell_type": "markdown",
   "metadata": {},
   "source": [
    "## Variables"
   ]
  },
  {
   "cell_type": "markdown",
   "metadata": {},
   "source": [
    "### Switching values\n",
    "\n",
    "Sometimes we have two variables whose values we want to swap. For instance, Dr. Bart's office is full of toys, mine is full of chalk dust, so I want to switch with him. Let's try to do that now."
   ]
  },
  {
   "cell_type": "code",
   "execution_count": null,
   "metadata": {
    "scrolled": true
   },
   "outputs": [],
   "source": [
    "prof_ginzbergs_office = 441\n",
    "dr_barts_office = 411\n",
    "\n",
    "dr_barts_office = prof_ginzbergs_office\n",
    "prof_ginzbergs_office = dr_barts_office\n",
    "\n",
    "print(f\"Dr. Bart's office: {dr_barts_office}\")\n",
    "print(f\"Prof. Ginzberg's office: {prof_ginzbergs_office}\")"
   ]
  },
  {
   "cell_type": "markdown",
   "metadata": {},
   "source": [
    "**Nooo!** Now we're both in the dusty office. That's okay, he'll help me clean up the chalk dust before office hours.\n",
    "\n",
    "Looks like assigning one variable to another directly isn't quite the way to swap them. We need somewhere to save one of the values so it doesn't get overwritten. Let's try this again, but carefully this time. Fill in the blanks (delete the `___` bits and replace them with something to make this code work)"
   ]
  },
  {
   "cell_type": "code",
   "execution_count": null,
   "metadata": {
    "scrolled": true
   },
   "outputs": [],
   "source": [
    "prof_ginzbergs_office = 441\n",
    "dr_barts_office = 411\n",
    "\n",
    "# We'll use a temporary variable to store Dr. Bart's office number so it doesn't get overwritten\n",
    "temporary_variable = ___\n",
    "dr_barts_office = prof_ginzbergs_office\n",
    "prof_ginzbergs_office = ___\n",
    "\n",
    "print(f\"Dr. Bart's office: {dr_barts_office}\")\n",
    "print(f\"Prof. Ginzberg's office: {prof_ginzbergs_office}\")"
   ]
  },
  {
   "cell_type": "code",
   "execution_count": null,
   "metadata": {
    "scrolled": true
   },
   "outputs": [],
   "source": []
  }
 ],
 "metadata": {
  "kernelspec": {
   "display_name": "Python 3",
   "language": "python",
   "name": "python3"
  },
  "language_info": {
   "codemirror_mode": {
    "name": "ipython",
    "version": 3
   },
   "file_extension": ".py",
   "mimetype": "text/x-python",
   "name": "python",
   "nbconvert_exporter": "python",
   "pygments_lexer": "ipython3",
   "version": "3.6.3"
  }
 },
 "nbformat": 4,
 "nbformat_minor": 2
}
